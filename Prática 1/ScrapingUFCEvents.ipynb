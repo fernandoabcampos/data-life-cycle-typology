{
 "cells": [
  {
   "cell_type": "code",
   "execution_count": null,
   "metadata": {},
   "outputs": [],
   "source": [
    "import sys\n",
    "print(sys.version)"
   ]
  },
  {
   "cell_type": "code",
   "execution_count": null,
   "metadata": {},
   "outputs": [],
   "source": [
    "# Not necessary at all, but to demonstrate that I'm aware that BeautifulSoup4 must be installed\n",
    "!{sys.executable} -m pip install --upgrade pip\n",
    "!{sys.executable} -m pip install BeautifulSoup4"
   ]
  },
  {
   "cell_type": "code",
   "execution_count": null,
   "metadata": {},
   "outputs": [],
   "source": [
    "from bs4 import BeautifulSoup\n",
    "from time import sleep\n",
    "import requests\n",
    "import pandas as pd\n",
    "import json\n",
    "import csv\n",
    "import time\n",
    "import datetime"
   ]
  },
  {
   "cell_type": "code",
   "execution_count": null,
   "metadata": {},
   "outputs": [],
   "source": [
    "Events = []\n",
    "base_url = 'https://en.wikipedia.org'\n",
    "main_url = base_url + '/wiki/List_of_UFC_events'"
   ]
  },
  {
   "cell_type": "code",
   "execution_count": null,
   "metadata": {},
   "outputs": [],
   "source": [
    "def perform_http_get(url):\n",
    "    \"\"\"\n",
    "    Note:\n",
    "        This is a function that tries to connect to a given URL, if it fails, a retry will occurs in 3 sec.  \n",
    "\n",
    "    Args:\n",
    "        url (str): A string representing the URL we want to integrate.\n",
    "\n",
    "    Returns:\n",
    "        The http response content \n",
    "    \"\"\"\n",
    "    r = requests.get(url)\n",
    "    if r.status_code == 200:\n",
    "        return BeautifulSoup(r.content, 'html.parser')\n",
    "        "
   ]
  },
  {
   "cell_type": "code",
   "execution_count": null,
   "metadata": {},
   "outputs": [],
   "source": [
    "def extract_cell(cells, id_td):\n",
    "    return cells[id_td].renderContents().decode().strip()"
   ]
  },
  {
   "cell_type": "code",
   "execution_count": null,
   "metadata": {},
   "outputs": [],
   "source": [
    "def append_fighter_names(cells_event, info):\n",
    "    fighter1 = ''\n",
    "    fighter2 = ''\n",
    "    if len(cells_event[1].findAll('a')) == 0:\n",
    "        fighter1 = extract_cell(cells_event, 1)\n",
    "    else:\n",
    "        fighter1 = cells_event[1].find('a').renderContents().decode().strip()\n",
    "\n",
    "    if len(cells_event[3].findAll('a')) == 0:\n",
    "        fighter2 = extract_cell(cells_event, 3)\n",
    "    else:\n",
    "        fighter2 = cells_event[3].find('a').renderContents().decode().strip()\n",
    "    \n",
    "    info.update({\"fighter_1\" : fighter1})\n",
    "    info.update({\"fighter_2\" : fighter2})"
   ]
  },
  {
   "cell_type": "code",
   "execution_count": null,
   "metadata": {},
   "outputs": [],
   "source": [
    "def extract_row(cells_event, link):\n",
    "       \n",
    "    info = {\n",
    "        \"event_name\": link.contents[0],\n",
    "        \"weight_class\": extract_cell(cells_event, 0),\n",
    "        \"action\": extract_cell(cells_event, 2),\n",
    "        \"method\": extract_cell(cells_event, 4),\n",
    "        \"round\": extract_cell(cells_event, 5),\n",
    "        \"time\": extract_cell(cells_event, 6)\n",
    "    }\n",
    "    \n",
    "    append_fighter_names(cells_event, info)\n",
    "    Events.append(info)"
   ]
  },
  {
   "cell_type": "code",
   "execution_count": null,
   "metadata": {},
   "outputs": [],
   "source": [
    "def extract_info_individual_event(link):\n",
    "    \n",
    "    individual_event = perform_http_get(base_url + link.get('href'))\n",
    "    table = individual_event.find('table',{'class': 'toccolours'})\n",
    "    if table is not None:\n",
    "        rows_event = table.findAll('tr')\n",
    "\n",
    "        for row_event in rows_event:\n",
    "            cells_event = row_event.findAll('td')\n",
    "            if len(cells_event) > 0 :\n",
    "                extract_row(cells_event, link)\n",
    "                        "
   ]
  },
  {
   "cell_type": "code",
   "execution_count": null,
   "metadata": {},
   "outputs": [],
   "source": [
    "Events = []\n",
    "soup = perform_http_get(main_url)\n",
    "table_past_events = soup.find('table', {'id': 'Past_events'})\n",
    "\n",
    "rows = table_past_events.findAll('tr')\n",
    "\n",
    "for row in rows:\n",
    "    sleep(10) # Wait 10 sec, recommendations explained below\n",
    "    cells = row.findAll('td')\n",
    "    if len(cells) > 0 :\n",
    "        links = cells[1].findAll('a')\n",
    "        for link in links:        \n",
    "            extract_info_individual_event(link)"
   ]
  },
  {
   "cell_type": "code",
   "execution_count": null,
   "metadata": {},
   "outputs": [],
   "source": [
    "print(len(Events))\n",
    "\n",
    "df = pd.DataFrame(Events)\n",
    "df = df[['event_name', 'weight_class', 'fighter_1', 'action', 'fighter_2', 'round', 'time', 'method' ]]\n",
    "\n",
    "df.tail()\n"
   ]
  }
 ],
 "metadata": {
  "kernelspec": {
   "display_name": "Python 3",
   "language": "python",
   "name": "python3"
  },
  "language_info": {
   "codemirror_mode": {
    "name": "ipython",
    "version": 3
   },
   "file_extension": ".py",
   "mimetype": "text/x-python",
   "name": "python",
   "nbconvert_exporter": "python",
   "pygments_lexer": "ipython3",
   "version": "3.7.0"
  }
 },
 "nbformat": 4,
 "nbformat_minor": 2
}
